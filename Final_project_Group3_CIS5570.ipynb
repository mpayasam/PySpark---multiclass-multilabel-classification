{
 "cells": [
  {
   "cell_type": "markdown",
   "metadata": {
    "id": "CU7UdlKqHio1"
   },
   "source": [
    "**Final project CIS 5570 - Emotion Sentiment analysis of social comments**\n",
    "\n",
    "Multiclass and Multilabel classification problem\n",
    "\n",
    "Group 3: Deepthi Arcot, Meghanath Payasam, Sreeja Narahari, Sowmya Ramanujam, Tanvi Shah\n"
   ]
  },
  {
   "cell_type": "code",
   "execution_count": 4,
   "metadata": {
    "colab": {
     "base_uri": "https://localhost:8080/"
    },
    "id": "SNVwgqfcaDEe",
    "outputId": "94cd5086-daf3-4759-bee4-5a28049cbac3"
   },
   "outputs": [
    {
     "name": "stdout",
     "output_type": "stream",
     "text": [
      "\u001b[2K     \u001b[90m━━━━━━━━━━━━━━━━━━━━━━━━━━━━━━━━━━━━━━━\u001b[0m \u001b[32m310.8/310.8 MB\u001b[0m \u001b[31m4.4 MB/s\u001b[0m eta \u001b[36m0:00:00\u001b[0m\n",
      "\u001b[?25h  Preparing metadata (setup.py) ... \u001b[?25l\u001b[?25hdone\n",
      "  Building wheel for pyspark (setup.py) ... \u001b[?25l\u001b[?25hdone\n",
      "Looking in indexes: https://pypi.org/simple, https://us-python.pkg.dev/colab-wheels/public/simple/\n",
      "Requirement already satisfied: nltk in /usr/local/lib/python3.9/dist-packages (3.8.1)\n",
      "Requirement already satisfied: click in /usr/local/lib/python3.9/dist-packages (from nltk) (8.1.3)\n",
      "Requirement already satisfied: tqdm in /usr/local/lib/python3.9/dist-packages (from nltk) (4.65.0)\n",
      "Requirement already satisfied: regex>=2021.8.3 in /usr/local/lib/python3.9/dist-packages (from nltk) (2022.10.31)\n",
      "Requirement already satisfied: joblib in /usr/local/lib/python3.9/dist-packages (from nltk) (1.2.0)\n",
      "Looking in indexes: https://pypi.org/simple, https://us-python.pkg.dev/colab-wheels/public/simple/\n",
      "Collecting symspellpy\n",
      "  Downloading symspellpy-6.7.7-py3-none-any.whl (2.6 MB)\n",
      "\u001b[2K     \u001b[90m━━━━━━━━━━━━━━━━━━━━━━━━━━━━━━━━━━━━━━━━\u001b[0m \u001b[32m2.6/2.6 MB\u001b[0m \u001b[31m60.5 MB/s\u001b[0m eta \u001b[36m0:00:00\u001b[0m\n",
      "\u001b[?25hCollecting editdistpy>=0.1.3\n",
      "  Downloading editdistpy-0.1.3.tar.gz (57 kB)\n",
      "\u001b[2K     \u001b[90m━━━━━━━━━━━━━━━━━━━━━━━━━━━━━━━━━━━━━━━━\u001b[0m \u001b[32m57.2/57.2 kB\u001b[0m \u001b[31m4.6 MB/s\u001b[0m eta \u001b[36m0:00:00\u001b[0m\n",
      "\u001b[?25h  Installing build dependencies ... \u001b[?25l\u001b[?25hdone\n",
      "  Getting requirements to build wheel ... \u001b[?25l\u001b[?25hdone\n",
      "  Preparing metadata (pyproject.toml) ... \u001b[?25l\u001b[?25hdone\n",
      "Building wheels for collected packages: editdistpy\n",
      "  Building wheel for editdistpy (pyproject.toml) ... \u001b[?25l\u001b[?25hdone\n",
      "  Created wheel for editdistpy: filename=editdistpy-0.1.3-cp39-cp39-linux_x86_64.whl size=141214 sha256=94b0f0d592d3f68734f72a199a3ca94e0b9189e739d21e89383efaa2cd1511e8\n",
      "  Stored in directory: /root/.cache/pip/wheels/72/16/b1/ea6472dedd6ac13ad789dd294871a76fd6906fca3c010347d1\n",
      "Successfully built editdistpy\n",
      "Installing collected packages: editdistpy, symspellpy\n",
      "Successfully installed editdistpy-0.1.3 symspellpy-6.7.7\n",
      "Looking in indexes: https://pypi.org/simple, https://us-python.pkg.dev/colab-wheels/public/simple/\n",
      "Requirement already satisfied: setuptools in /usr/local/lib/python3.9/dist-packages (67.7.1)\n",
      "Looking in indexes: https://pypi.org/simple, https://us-python.pkg.dev/colab-wheels/public/simple/\n",
      "Requirement already satisfied: spacy in /usr/local/lib/python3.9/dist-packages (3.5.2)\n",
      "Requirement already satisfied: preshed<3.1.0,>=3.0.2 in /usr/local/lib/python3.9/dist-packages (from spacy) (3.0.8)\n",
      "Requirement already satisfied: requests<3.0.0,>=2.13.0 in /usr/local/lib/python3.9/dist-packages (from spacy) (2.27.1)\n",
      "Requirement already satisfied: tqdm<5.0.0,>=4.38.0 in /usr/local/lib/python3.9/dist-packages (from spacy) (4.65.0)\n",
      "Requirement already satisfied: spacy-loggers<2.0.0,>=1.0.0 in /usr/local/lib/python3.9/dist-packages (from spacy) (1.0.4)\n",
      "Requirement already satisfied: pathy>=0.10.0 in /usr/local/lib/python3.9/dist-packages (from spacy) (0.10.1)\n",
      "Requirement already satisfied: typer<0.8.0,>=0.3.0 in /usr/local/lib/python3.9/dist-packages (from spacy) (0.7.0)\n",
      "Requirement already satisfied: thinc<8.2.0,>=8.1.8 in /usr/local/lib/python3.9/dist-packages (from spacy) (8.1.9)\n",
      "Requirement already satisfied: murmurhash<1.1.0,>=0.28.0 in /usr/local/lib/python3.9/dist-packages (from spacy) (1.0.9)\n",
      "Requirement already satisfied: srsly<3.0.0,>=2.4.3 in /usr/local/lib/python3.9/dist-packages (from spacy) (2.4.6)\n",
      "Requirement already satisfied: jinja2 in /usr/local/lib/python3.9/dist-packages (from spacy) (3.1.2)\n",
      "Requirement already satisfied: spacy-legacy<3.1.0,>=3.0.11 in /usr/local/lib/python3.9/dist-packages (from spacy) (3.0.12)\n",
      "Requirement already satisfied: cymem<2.1.0,>=2.0.2 in /usr/local/lib/python3.9/dist-packages (from spacy) (2.0.7)\n",
      "Requirement already satisfied: pydantic!=1.8,!=1.8.1,<1.11.0,>=1.7.4 in /usr/local/lib/python3.9/dist-packages (from spacy) (1.10.7)\n",
      "Requirement already satisfied: packaging>=20.0 in /usr/local/lib/python3.9/dist-packages (from spacy) (23.1)\n",
      "Requirement already satisfied: numpy>=1.15.0 in /usr/local/lib/python3.9/dist-packages (from spacy) (1.22.4)\n",
      "Requirement already satisfied: wasabi<1.2.0,>=0.9.1 in /usr/local/lib/python3.9/dist-packages (from spacy) (1.1.1)\n",
      "Requirement already satisfied: smart-open<7.0.0,>=5.2.1 in /usr/local/lib/python3.9/dist-packages (from spacy) (6.3.0)\n",
      "Requirement already satisfied: setuptools in /usr/local/lib/python3.9/dist-packages (from spacy) (67.7.1)\n",
      "Requirement already satisfied: langcodes<4.0.0,>=3.2.0 in /usr/local/lib/python3.9/dist-packages (from spacy) (3.3.0)\n",
      "Requirement already satisfied: catalogue<2.1.0,>=2.0.6 in /usr/local/lib/python3.9/dist-packages (from spacy) (2.0.8)\n",
      "Requirement already satisfied: typing-extensions>=4.2.0 in /usr/local/lib/python3.9/dist-packages (from pydantic!=1.8,!=1.8.1,<1.11.0,>=1.7.4->spacy) (4.5.0)\n",
      "Requirement already satisfied: idna<4,>=2.5 in /usr/local/lib/python3.9/dist-packages (from requests<3.0.0,>=2.13.0->spacy) (3.4)\n",
      "Requirement already satisfied: urllib3<1.27,>=1.21.1 in /usr/local/lib/python3.9/dist-packages (from requests<3.0.0,>=2.13.0->spacy) (1.26.15)\n",
      "Requirement already satisfied: certifi>=2017.4.17 in /usr/local/lib/python3.9/dist-packages (from requests<3.0.0,>=2.13.0->spacy) (2022.12.7)\n",
      "Requirement already satisfied: charset-normalizer~=2.0.0 in /usr/local/lib/python3.9/dist-packages (from requests<3.0.0,>=2.13.0->spacy) (2.0.12)\n",
      "Requirement already satisfied: blis<0.8.0,>=0.7.8 in /usr/local/lib/python3.9/dist-packages (from thinc<8.2.0,>=8.1.8->spacy) (0.7.9)\n",
      "Requirement already satisfied: confection<1.0.0,>=0.0.1 in /usr/local/lib/python3.9/dist-packages (from thinc<8.2.0,>=8.1.8->spacy) (0.0.4)\n",
      "Requirement already satisfied: click<9.0.0,>=7.1.1 in /usr/local/lib/python3.9/dist-packages (from typer<0.8.0,>=0.3.0->spacy) (8.1.3)\n",
      "Requirement already satisfied: MarkupSafe>=2.0 in /usr/local/lib/python3.9/dist-packages (from jinja2->spacy) (2.1.2)\n",
      "--2023-04-25 03:36:40--  https://storage.googleapis.com/gresearch/goemotions/data/full_dataset/goemotions_1.csv\n",
      "Resolving storage.googleapis.com (storage.googleapis.com)... 172.253.63.128, 142.250.31.128, 142.251.111.128, ...\n",
      "Connecting to storage.googleapis.com (storage.googleapis.com)|172.253.63.128|:443... connected.\n",
      "HTTP request sent, awaiting response... 200 OK\n",
      "Length: 14174600 (14M) [application/octet-stream]\n",
      "Saving to: ‘goemo1.csv’\n",
      "\n",
      "                    100%[===================>]  13.52M  --.-KB/s    in 0.1s    \n",
      "\n",
      "2023-04-25 03:36:40 (127 MB/s) - ‘goemo1.csv’ saved [14174600/14174600]\n",
      "\n",
      "--2023-04-25 03:36:40--  https://storage.googleapis.com/gresearch/goemotions/data/full_dataset/goemotions_2.csv\n",
      "Resolving storage.googleapis.com (storage.googleapis.com)... 172.253.63.128, 142.250.31.128, 142.251.111.128, ...\n",
      "Connecting to storage.googleapis.com (storage.googleapis.com)|172.253.63.128|:443... connected.\n",
      "HTTP request sent, awaiting response... 200 OK\n",
      "Length: 14173154 (14M) [application/octet-stream]\n",
      "Saving to: ‘goemo2.csv’\n",
      "\n",
      "                    100%[===================>]  13.52M  --.-KB/s    in 0.1s    \n",
      "\n",
      "2023-04-25 03:36:41 (105 MB/s) - ‘goemo2.csv’ saved [14173154/14173154]\n",
      "\n",
      "--2023-04-25 03:36:41--  https://storage.googleapis.com/gresearch/goemotions/data/full_dataset/goemotions_3.csv\n",
      "Resolving storage.googleapis.com (storage.googleapis.com)... 172.253.63.128, 142.250.31.128, 142.251.111.128, ...\n",
      "Connecting to storage.googleapis.com (storage.googleapis.com)|172.253.63.128|:443... connected.\n",
      "HTTP request sent, awaiting response... 200 OK\n",
      "Length: 14395164 (14M) [application/octet-stream]\n",
      "Saving to: ‘goemo3.csv’\n",
      "\n",
      "                    100%[===================>]  13.73M  --.-KB/s    in 0.09s   \n",
      "\n",
      "2023-04-25 03:36:41 (150 MB/s) - ‘goemo3.csv’ saved [14395164/14395164]\n",
      "\n"
     ]
    }
   ],
   "source": [
    "!pip install -q pyspark\n",
    "!pip install nltk\n",
    "!pip install symspellpy\n",
    "!pip install setuptools\n",
    "!pip install spacy\n",
    "\n",
    "# Downloading the GoEmotions dataset consisting of 200000+ reddit comments prepared by Google and humanly annotated for 28 human emotions\n",
    "!wget -P data/full_dataset/ https://storage.googleapis.com/gresearch/goemotions/data/full_dataset/goemotions_1.csv -O 'goemo1.csv'\n",
    "!wget -P data/full_dataset/ https://storage.googleapis.com/gresearch/goemotions/data/full_dataset/goemotions_2.csv -O 'goemo2.csv'\n",
    "!wget -P data/full_dataset/ https://storage.googleapis.com/gresearch/goemotions/data/full_dataset/goemotions_3.csv -O 'goemo3.csv'"
   ]
  },
  {
   "cell_type": "markdown",
   "metadata": {
    "id": "nBHhO03fH73z"
   },
   "source": [
    "# Brief approach: We are attempting both Multiclass unilabel classification and Multiclass Multilabel multioutput classification\n",
    "\n",
    "a. Using pyspark, analysed the GoEmotions dataset, cleaned the data and preprocessed it suitable for text mining (cleaning the labels data, removing duplicate entries,removing numbers, removing HTML tags, Decontraction of words, Removing punctuations and special characters, Spelling correction using symspellpy, Removing stopwords usign a custom list, stemming)\n",
    "b. the processed RDD, is converted to pyspark DF.\n",
    "c. Feature extraction from text and conversion to numerical vector done by two approaches i) TF-IDF of 1 to 5 grams of text using pyspark ml libraries- to extract sequence information from text ii) Word2vec feature extraction to gain contextual understanding of text- using pyspark ml lib\n",
    "d.Label transformed to a vector\n",
    "e. Following ML techniques explored via pyspark ml lib - Multinomial regression using TF-IDF 1-5gram, Multinomial regression using Word2vec feature. we also explored One vs Rest Multinomial \n",
    "f. Deep learning LSTM technique explored through Python scikit"
   ]
  },
  {
   "cell_type": "markdown",
   "metadata": {
    "id": "7UYVZk5BKDDN"
   },
   "source": [
    "\n",
    "\n",
    "---\n",
    "\n"
   ]
  },
  {
   "cell_type": "code",
   "execution_count": 186,
   "metadata": {
    "colab": {
     "base_uri": "https://localhost:8080/"
    },
    "id": "vVdJ20C8JrUC",
    "outputId": "ad5ea309-b069-4024-aa14-353fc86f7d4e"
   },
   "outputs": [
    {
     "name": "stderr",
     "output_type": "stream",
     "text": [
      "[nltk_data] Downloading package stopwords to /root/nltk_data...\n",
      "[nltk_data]   Package stopwords is already up-to-date!\n"
     ]
    }
   ],
   "source": [
    "from pyspark.sql.functions import lit\n",
    "from pyspark import SparkContext, SparkConf\n",
    "from pyspark.sql import SparkSession\n",
    "from pyspark.sql.functions import count,sum, col, when, concat_ws, expr, concat\n",
    "import string\n",
    "import nltk\n",
    "nltk.download('stopwords')\n",
    "from nltk.corpus import stopwords\n",
    "import pandas as pd\n",
    "import matplotlib.pyplot as plt\n",
    "import seaborn as sns\n",
    "import spacy\n",
    "import re\n",
    "import pkg_resources\n",
    "from symspellpy import SymSpell, Verbosity #for spelling correction\n",
    "from nltk.stem import SnowballStemmer #snowball stemming for stemming operations.\n",
    "from pyspark.ml.feature import NGram, HashingTF, IDF, Word2Vec,CountVectorizer,VectorAssembler,UnivariateFeatureSelector\n",
    "from pyspark.ml import Pipeline"
   ]
  },
  {
   "cell_type": "code",
   "execution_count": 187,
   "metadata": {
    "id": "4W7oLyQ1ajhq"
   },
   "outputs": [],
   "source": [
    "conf = SparkConf().setAppName('Sparkproject_group3')\n",
    "sc = SparkContext.getOrCreate(conf = conf)\n",
    "\n",
    "spark = SparkSession.builder.master(\"local[1]\")\\\n",
    "          .appName(\"Sparkfinalproject\")\\\n",
    "          .getOrCreate()"
   ]
  },
  {
   "cell_type": "code",
   "execution_count": 188,
   "metadata": {
    "colab": {
     "base_uri": "https://localhost:8080/"
    },
    "id": "AcDKzpM_dw82",
    "outputId": "8c9f89c7-414a-47fe-8784-51e7967d5a83"
   },
   "outputs": [
    {
     "name": "stdout",
     "output_type": "stream",
     "text": [
      "sample row of data:  Row(text=\"Worst ending ever! I won't spoil it but this one sucked worse than the avengers last movie!\", admiration='0', amusement='0', anger='0', annoyance='0', approval='0', caring='0', confusion='0', curiosity='0', desire='0', disappointment='1', disapproval='0', disgust='0', embarrassment='0', excitement='0', fear='0', gratitude='0', grief='0', joy='0', love='0', nervousness='0', optimism='0', pride='0', realization='0', relief='0', remorse='0', sadness='0', surprise='0', neutral='0')\n",
      "Total count of rows:  211225\n"
     ]
    }
   ],
   "source": [
    "\"\"\"0.Reading the dataset as a pyspark dataframe\"\"\"\n",
    "\n",
    "path = ['goemo1.csv','goemo2.csv','goemo3.csv'] \n",
    "df_emo=spark.read.csv(path,header=True) \n",
    "\n",
    "#the dataset has several attributes, we retain just the column named 'Text' which contains text reddit comments , annotated with a vector of emotions coded 0 or 1\n",
    "df_emo=df_emo.drop('id','author','subreddit','link_id','parent_id','created_utc','rater_id','example_very_unclear')\n",
    "\n",
    "print(\"sample row of data: \",df_emo.head())\n",
    "print(\"Total count of rows: \",df_emo.count())"
   ]
  },
  {
   "cell_type": "code",
   "execution_count": 189,
   "metadata": {
    "colab": {
     "base_uri": "https://localhost:8080/"
    },
    "id": "1X3xaiARLc2j",
    "outputId": "67ad45fc-9f78-49ad-aaf9-97556da5fbc9"
   },
   "outputs": [
    {
     "name": "stdout",
     "output_type": "stream",
     "text": [
      "total count of unique texts:  57729\n"
     ]
    }
   ],
   "source": [
    "#Exploratory data analysis and preparing data for preprocessing\n",
    "\n",
    "#Creating a list of emotions from the dataset. Emotions are the columns in the dataset\n",
    "emotion_cols=df_emo.schema.names[-28:]\n",
    "\n",
    "\"\"\"1. The values in the emotions field should be 1 or 0, if any other characters occur- to clean the data appropriately\"\"\"\n",
    "def data_check(df):\n",
    "  df.select(*(sum(c) for c in emotion_cols)).show()\n",
    "  for i in emotion_cols:\n",
    "    df.select(col(i)).distinct().show() \n",
    "    \n",
    "#data_check(df_emo) - Shows presence of special values in emotion tags 'admiration', 'amusement','anger' and'annoyance'-contains some entries labelled 'False' and some numbers >1 and some alphanumeric characters\n",
    "\n",
    "for i in ['admiration','amusement','anger','annoyance']:\n",
    "  df_emo=df_emo.withColumn(i,\n",
    "                           when(df_emo[i]>0,1)\n",
    "                           .when(df_emo[i].isin(['False','false']),0)\n",
    "                           .when(df_emo[i].isin(['True','true']),1)\n",
    "                           .otherwise(0))\n",
    "   \n",
    "\"\"\"2. Comments manually annotated for emotion tags by multiple users, which is causing duplicate entires- \n",
    "To group the comment, consolidate the emotion tagging and then drop duplicate entries\"\"\"\n",
    " \n",
    "df_grouped = df_emo.groupBy('text').agg(\n",
    "    sum('admiration').alias('admiration'),\n",
    "    sum('amusement').alias('amusement'),\n",
    "    sum('anger').alias('anger'),\n",
    "    sum('annoyance').alias('annoyance'),\n",
    "    sum('approval').alias('approval'),\n",
    "    sum('caring').alias('caring'),\n",
    "    sum('confusion').alias('confusion'),\n",
    "    sum('curiosity').alias('curiosity'),\n",
    "    sum('desire').alias('desire'),\n",
    "    sum('disappointment').alias('disappointment'),\n",
    "    sum('disapproval').alias('disapproval'),\n",
    "    sum('disgust').alias('disgust'),\n",
    "    sum('embarrassment').alias('embarrassment'),\n",
    "    sum('excitement').alias('excitement'),\n",
    "    sum('fear').alias('fear'),\n",
    "    sum('gratitude').alias('gratitude'),\n",
    "    sum('grief').alias('grief'),\n",
    "    sum('joy').alias('joy'),\n",
    "    sum('love').alias('love'),\n",
    "    sum('nervousness').alias('nervousness'),\n",
    "    sum('optimism').alias('optimism'),\n",
    "    sum('pride').alias('pride'),\n",
    "    sum('realization').alias('realization'),\n",
    "    sum('relief').alias('relief'),\n",
    "    sum('remorse').alias('remorse'),\n",
    "    sum('sadness').alias('sadness'),\n",
    "    sum('surprise').alias('surprise'),\n",
    "    sum('neutral').alias('neutral'))\n",
    "\n",
    "#drop duplicate entries of comments, if any\n",
    "df_unique_comments = df_grouped.dropDuplicates(['text'])\n",
    "\n",
    "#convert all >1 values in emotion tags to 1, and retain the 0s\n",
    "for column in df_unique_comments.columns[1:]:\n",
    "    df_unique_comments = df_unique_comments.withColumn(column, when(col(column) > 0, 1).otherwise(0))\n",
    "\n",
    "\"\"\"3. Adding another column called 'Emotions' to extract the text emotion from the vector\"\"\"\n",
    "\n",
    "df_emo_text=df_unique_comments.withColumn(\"emotions\", concat_ws(',',*[when(df_unique_comments[i]==1,i) for i in emotion_cols]))\n",
    "df_emo_tclean = df_emo_text.filter(df_emo_text['emotions'] != \" \")\n",
    "\n",
    "print(\"total count of unique texts: \",df_emo_tclean.count())\n",
    "\n"
   ]
  },
  {
   "cell_type": "code",
   "execution_count": 191,
   "metadata": {
    "colab": {
     "base_uri": "https://localhost:8080/",
     "height": 1000
    },
    "id": "-FPgWnro6QNt",
    "outputId": "007662ed-10ed-45cc-f090-5455b4dd0fb0"
   },
   "outputs": [
    {
     "name": "stdout",
     "output_type": "stream",
     "text": [
      "Total count of comments:  57729\n",
      "+---------------+--------------+----------+--------------+-------------+-----------+--------------+--------------+-----------+-------------------+----------------+------------+------------------+---------------+---------+--------------+----------+--------+---------+----------------+-------------+----------+----------------+-----------+------------+------------+-------------+------------+\n",
      "|sum(admiration)|sum(amusement)|sum(anger)|sum(annoyance)|sum(approval)|sum(caring)|sum(confusion)|sum(curiosity)|sum(desire)|sum(disappointment)|sum(disapproval)|sum(disgust)|sum(embarrassment)|sum(excitement)|sum(fear)|sum(gratitude)|sum(grief)|sum(joy)|sum(love)|sum(nervousness)|sum(optimism)|sum(pride)|sum(realization)|sum(relief)|sum(remorse)|sum(sadness)|sum(surprise)|sum(neutral)|\n",
      "+---------------+--------------+----------+--------------+-------------+-----------+--------------+--------------+-----------+-------------------+----------------+------------+------------------+---------------+---------+--------------+----------+--------+---------+----------------+-------------+----------+----------------+-----------+------------+------------+-------------+------------+\n",
      "|           9944|          5195|      5629|         10013|        13227|       4369|          5309|          6199|       2855|               6635|            8391|        4072|              2013|           4330|     2144|          5278|       576|    5669|     4341|            1576|         6182|      1146|            7215|       1118|        1655|        4663|         3826|       31273|\n",
      "+---------------+--------------+----------+--------------+-------------+-----------+--------------+--------------+-----------+-------------------+----------------+------------+------------------+---------------+---------+--------------+----------+--------+---------+----------------+-------------+----------+----------------+-----------+------------+------------+-------------+------------+\n",
      "\n"
     ]
    },
    {
     "data": {
      "image/png": "[encoded data removed]",
      "text/plain": [
       "<Figure size 640x480 with 1 Axes>"
      ]
     },
     "metadata": {},
     "output_type": "display_data"
    },
    {
     "data": {
      "image/png": "[encoded data removed]",
      "text/plain": [
       "<Figure size 1000x400 with 1 Axes>"
      ]
     },
     "metadata": {},
     "output_type": "display_data"
    },
    {
     "name": "stdout",
     "output_type": "stream",
     "text": [
      "Cleaning the dataframe to include only four emotion tags per comment, sample comments and emotions\n",
      "+-----------------------------------------------------------------------------------------------------------------------------------------+----------------------------+\n",
      "|text                                                                                                                                     |emotions_4                  |\n",
      "+-----------------------------------------------------------------------------------------------------------------------------------------+----------------------------+\n",
      "|Yesterday. All my troubles seemed so faaar away. Now it looks though that they're here to stay. Oh I believe, in yesterday.              |optimism,relief,neutral     |\n",
      "|The anniversary march was held in Derry Sunday past , not one mention on BBC itv not a thing. 14 people murdered in cold blood. Nothing. |anger,approval,grief,sadness|\n",
      "|..... sigh.... gross                                                                                                                     |neutral                     |\n",
      "|The stress that effects you stresses the baby before it’s born. It effects the bond you have and even your milk supply if you breastfeed.|caring,neutral              |\n",
      "|Well except for keeping it around as it is only hard to learn because of active attempts to wipe it out.                                 |realization,neutral         |\n",
      "+-----------------------------------------------------------------------------------------------------------------------------------------+----------------------------+\n",
      "only showing top 5 rows\n",
      "\n"
     ]
    }
   ],
   "source": [
    "\"\"\"4. Analyzing emotion tags per comment and the overall emotion distribution to understand how balanced the dataset is.\n",
    "Actions taken basis analysis: Retaining 4 emotions per tag as the objective is to identify the core emotion of a text \n",
    "and also to avoid 'neutral' tagging skew to a comment \"\"\"\n",
    "\n",
    "##Analyzing tags per emotion \n",
    "print(\"Total count of comments: \",df_emo_tclean.count())\n",
    "\n",
    "data = df_emo_tclean.select(*(sum(c) for c in emotion_cols)).toPandas()\n",
    "df_emo_tclean.select(*(sum(c) for c in emotion_cols)).show()\n",
    "\n",
    "counts = data.values.tolist()[0]\n",
    "fig, ax = plt.subplots()\n",
    "ax.bar(emotion_cols,counts)\n",
    "ax.set_xlabel('Emotion')\n",
    "ax.set_ylabel('Count')\n",
    "plt.xticks(rotation=60, ha='right')\n",
    "plt.show() \n",
    "\n",
    "\n",
    "## number of tags per comments- to understand the dataset distribution\n",
    "df_pandas= df_emo_tclean.toPandas()\n",
    "df_pandas[\"emote_count\"] = df_pandas[\"emotions\"].apply(lambda text: len(str(text).split(\",\")))\n",
    "df_pandas.head()\n",
    "\n",
    "plt.figure(figsize=(10, 4))\n",
    "sns.countplot(x='emote_count', data=df_pandas)\n",
    "plt.title(\"Number of emotion tags to a comment\")\n",
    "plt.xlabel('Values')\n",
    "plt.ylabel('Count')\n",
    "plt.show()\n",
    "\n",
    "\n",
    "#the first graph shows a heavy tilt towards neutral tagging for a emotion. almost half of the comments have a 'neutral' tagging along with other tags.\n",
    "#Remember majority of the comments have >1 emotion tagged. \n",
    "#We are retaining first four emotions for every comment, to avoid 'heavy neutral' classification. \n",
    "#Also we may dilute the objective of identifying the core emotions of a text, if we describe a text with more than 4 emotions.\n",
    "\n",
    "from pyspark.sql.functions import split, exp, size\n",
    "df_emo_clean = df_emo_tclean.withColumn(\"emotions_list\", split(\"emotions\", \",\"))\n",
    "df_emo_clean = df_emo_clean.withColumn(\"emotions_list\", expr(\"filter(emotions_list, x -> length(trim(x)) > 0)\"))\n",
    "df_emo_clean = df_emo_clean.withColumn(\"emotions_4\", when(size(\"emotions_list\") >= 4, expr(\"emotions_list[0] || ',' || emotions_list[1] || ',' || emotions_list[2] || ',' || emotions_list[3]\")).otherwise(df_emo_clean.emotions))\n",
    "clean_df_emo = df_emo_clean.drop(\"emotions_list\")\n",
    "clean_df = clean_df_emo.select(\"text\", \"emotions_4\")\n",
    "print(\"Cleaning the dataframe to include only four emotion tags per comment, sample comments and emotions\")\n",
    "clean_df.show(5, truncate=False)"
   ]
  },
  {
   "cell_type": "markdown",
   "metadata": {
    "id": "lkFYZXljVFLA"
   },
   "source": [
    "\n",
    "\n",
    "---\n",
    "\n",
    "\n",
    "Pre Processing"
   ]
  },
  {
   "cell_type": "code",
   "execution_count": 192,
   "metadata": {
    "id": "JSzc9J88jPCi"
   },
   "outputs": [],
   "source": [
    "\"\"\"5.Converting from Pyspark DF to Pyspark RDD to carry out text preprocessing steps\"\"\"\n",
    "# We can work on Pyspark dataframe also\n",
    "\n",
    "rdd_emote=clean_df.rdd.map(lambda x:(x[0],x[1])) # We will use this as a master RDD for all preprocessing \n"
   ]
  },
  {
   "cell_type": "code",
   "execution_count": 193,
   "metadata": {
    "id": "u4X5ISJ2TRfa"
   },
   "outputs": [],
   "source": [
    "\"\"\"6.Preprocessing text prior to feature extraction\"\"\"\n",
    "\n",
    "snowstemmer = SnowballStemmer('english') \n",
    "nlp = spacy.load('en_core_web_sm') #for lemmatization\n",
    "\n",
    "#Words decontraction -Building a dictionary of commonly used sentence contractions. Note: We have considered the textual writing aspect here. 'can't' and 'cant' both will be decontracted to 'cannot'. \n",
    "#While writing (unless a formal writing) many writers miss the apostrophes for certain words in social writing. In summary we are adjusting our model to suit the writing styles of today.\n",
    "#We also quickly examined the lingo of the comments and used certain urban abbreviations like 'lol','omg','haha'- as these are cues for emotions as well.\n",
    "\n",
    "decontraction_dict = {\n",
    "    \"ain't\": \"is not\", \"aint\": \"is not\", \"amn't\": \"am not\",\"aren't\": \"are not\",\"arent\": \"are not\",\"can't\": \"cannot\",\"cant\": \"cannot\",\"'cause\": \"because\",\"cos\":\"because\",\"could've\": \"could have\",\"couldn't\": \"could not\",\"couldnt\": \"could not\",\"couldn\": \"could not\",\\\n",
    "    \"didn't\": \"did not\",\"didnt\": \"did not\",\"doesn't\": \"does not\",\"doesnt\": \"does not\",\"don't\": \"do not\",\"dont\": \"do not\",\"hadn't\": \"had not\",\"hadnt\": \"had not\",\"hasn't\": \"has not\",\"hasnt\": \"has not\",\"haven't\": \"have not\",\"havent\": \"have not\",\n",
    "    \"he'd\": \"he would\",\"he'll\": \"he will\",\"he's\": \"he is\",\"hed\": \"he would\",\"hes\": \"he is\",\"how'd\": \"how did\",\"how'll\": \"how will\",\"how're\": \"how are\",\"how's\": \"how is\",\"howd\": \"how did\",\"howll\": \"how will\",\"howre\": \"how are\",\"hows\": \"how is\",\n",
    "    \"I'd\": \"I would\",\"I'll\": \"I will\",\"I'm\": \"I am\",\"I've\": \"I have\",\"im\": \"I am\",\"ive\": \"I have\", \"isn't\": \"is not\",\"isnt\": \"is not\",\"it'd\": \"it would\",\"it'll\": \"it will\",\"it's\": \"it is\",\"itd\": \"it would\",\"itll\": \"it will\",\"let's\": \"let us\",\n",
    "    \"lets\": \"let us\",\"ma'am\": \"madam\", \"mam\":\"madam\",\"might've\": \"might have\", \"mightve\": \"might have\",\"mightnt\": \"might not\",\"mightn't\": \"might not\",\"must've\": \"must have\", \"mustn't\": \"must not\",\"mustnt\": \"must not\",\"needn't\": \"need not\",\n",
    "    \"neednt\": \"need not\", \"o'clock\": \"of the clock\", \"oughtn't\": \"ought not\", \"oughtnt\": \"ought not\", \"shan't\": \"shall not\", \"shant\": \"shall not\", \"she'd\": \"she would\", \"she'll\": \"she will\", \"she's\": \"she is\", \"shes\": \"she is\", \"should've\": \"should have\",\n",
    "    \"shouldn't\": \"should not\", \"shouldnt\": \"should not\",\"shouldn\":\"should not\", \"somebody's\": \"somebody is\", \"someones\": \"someone is\", \"something's\": \"something is\", \"thats\": \"that is\", \"that's\":\"that is\",\"thered\": \"there would\", \"they'd\": \"they would\",\"they'll\": \"they will\",\"they're\": \"they are\",\n",
    "    \"they've\": \"they have\",\"wasn't\": \"was not\",\"wasnt\": \"was not\",\"we'd\": \"we would\",\"we'll\": \"we will\",\"we're\": \"we are\",\"we've\": \"we have\",\"weren't\": \"were not\",\"werent\": \"were not\",\"what'll\": \"what will\",\"what're\": \"what are\",\"what's\": \"what is\",\"what've\": \"what have\",\n",
    "    \"whats\": \"what is\",\"where's\": \"where is\",\"wheres\": \"where is\",\"who'd\": \"who would\",\"who'll\": \"who will\",\"who're\": \"who are\",\"who's\": \"who is\",\"who've\": \"who have\",\"whod\": \"who would\",\"whos\": \"who is\",\"why'd\": \"why did\",\"why'll\": \"why will\",\n",
    "    \"why're\": \"why are\",\"why's\": \"why is\",\"won't\": \"will not\",\"wont\": \"will not\",\"would've\": \"would have\",\"wouldn't\": \"would not\",\"wouldnt\": \"would not\",\"wouldn\": \"would not\",\"you'd\": \"you would\",\"you'll\": \"you will\",\"you're\": \"you are\",\"you've\": \"you have\",\"youd\": \"you would\",\"youll\": \"you will\",\n",
    "    \"youre\": \"you are\",\"youve\": \"you have\", \"gonna\":\"going to\",\"wanna\": \"want to\",\"lol\":\"laugh out loud\",\":)\":\"smile\",\":(\":\"sad\",\"ROFL\":\"rolling on the floor laughing\",\"gotta\":\"going to\",\"idk\":\"i do not know\",\"haha\":\"laughing\",\"hahaha\":\"laughing\",\"oof\":\"sigh\",\"uff\":\"sigh\",\"omg\":\"oh my god\"}\n",
    "\n",
    "#Stopwords list dictionary\n",
    "stopwords_list = stopwords.words('english') #downloading nltk stopwords list\n",
    "retain_words=['no','not','nor','but','very','can','will','do','should','could', \"would\", 'none','what','which','but','yet','however','if','only','because', 'against','how','more','too','i', 'me', 'my', 'myself', 'we', 'our', 'ours', 'ourselves', 'you', 'your', 'yours', 'yourself', 'yourselves', 'he', 'him', 'his', 'himself', 'she', 'her', 'hers', 'herself', 'they', 'them', 'their', 'theirs', 'themselves', 'very']\n",
    "for item in retain_words:\n",
    "  if item in stopwords_list:\n",
    "    stopwords_list.remove(item) # creating a custom stopwords list by removing some words of interest from nltk list\n",
    "    stopwords_bc=sc.broadcast(stopwords_list) #broadcasting the custom stopwords list to all RDD partitions, has 131 words\n",
    "\n",
    "#removing word numbers-list\n",
    "number_words = ['zero', 'two', 'three', 'four', 'five', 'six', 'seven', 'eight', 'nine', 'ten', 'eleven', 'twelve', 'thirteen', 'fourteen', 'fifteen', 'sixteen', 'seventeen', 'eighteen', 'nineteen', 'twenty','dozen']\n",
    "\n",
    "## All basic processing steps of the text.\n",
    "def preprocessing(line): \n",
    "  processed=[]\n",
    "  new_word=str()\n",
    "  line = re.sub(\"\\S*\\d\\S*\", \"\", line).strip() #strips numbers\n",
    "  text = re.sub(r\"http\\S+\", \"\", line) #strips URL/HTML tags\n",
    "  line = re.sub(r\"www.\\S+\", \"\", text) #strips URL tags\n",
    "  words = line.split() #splitting the words\n",
    "  for word in words:\n",
    "    word=word.strip(\"., \") \n",
    "    if word in decontraction_dict:\n",
    "        word = decontraction_dict[word] #Decontracting words using the dict look up above\n",
    "    wor = re.sub(r\"(.)\\1{2,}\", r\"\\1\", word) #tackles elongated words eg: 'boringgg' to 'boring' , 'looove' to 'love'\n",
    "    word = wor.strip(string.punctuation) #stripping punctuation marks\n",
    "    word = word.strip(\" \") #removing all whitespaces\n",
    "    if (word not in stopwords_bc.value) and (word not in number_words): # removing stopwords from a custom stopwords list created above\n",
    "      processed.append(word)\n",
    "  processed_line=\" \".join(processed) \n",
    "  processed_line = re.sub(r'[^\\w\\s]', '', processed_line)  #removing any other special characters\n",
    "  return processed_line\n",
    "\n",
    "#Spellingcorrection. Using a dictionary based word correction approach via computationally light Symspell. It is not perfect always, but close. During our testing, we found Pyspellchecker to be the best as it uses statistical approach, but computationally very intensive.\n",
    "sym_spell = SymSpell(max_dictionary_edit_distance=2, prefix_length=7)\n",
    "dictionary_path = pkg_resources.resource_filename(\"symspellpy\", \"frequency_dictionary_en_82_765.txt\")\n",
    "sym_spell.load_dictionary(dictionary_path, term_index=0, count_index=1)\n",
    "def correct_spelling(line):\n",
    "  corrected_words=[]\n",
    "  for word in line.split():\n",
    "    suggestions = sym_spell.lookup(word, Verbosity.CLOSEST, max_edit_distance=2)\n",
    "    if suggestions:\n",
    "      corrected_words.append(suggestions[0].term)\n",
    "    else:\n",
    "      corrected_words.append(word)\n",
    "  corrected_text = ' '.join(corrected_words)\n",
    "  return corrected_text\n",
    "\n",
    "# optional-snowball stemming to convert words to root word.optional step before Tf-idf vectorization. Helps to keep the vector sparse.\n",
    "def snow_stemming(line):\n",
    "  new_words=[]\n",
    "  for cleaned_words in line.split():\n",
    "      stemmed_word=(snowstemmer.stem(cleaned_words))                                   \n",
    "      new_words.append(stemmed_word)\n",
    "  new_sentence=\" \".join(new_words)\n",
    "  return new_sentence\n",
    "\n",
    "#optional- lemmatization using spacy\n",
    "def lemmatization(line):\n",
    "  doc = nlp(line)\n",
    "  lemmatized_words = [word.lemma_ for word in doc]\n",
    "  return (' '.join(lemmatized_words))\n",
    "\n",
    "def clean_tags(line):\n",
    "  m=[]\n",
    "  for x in line:\n",
    "    if len(x)>0:\n",
    "      x=x.strip(\" \")\n",
    "      m.append(x)\n",
    "  return m\n",
    "\n",
    "\n",
    "\"\"\"5.Combining all of the techniques to do preprocessing of the RDD text\"\"\"\n",
    "\n",
    "rdd_processed_notstemmed_1=rdd_emote.map(lambda x:(preprocessing(x[0].lower()),x[1]))\n",
    "rdd_processed_notstemmed=rdd_processed_notstemmed_1.map(lambda x: (x[0].split(),x[1]))\n",
    "rdd_multilabel=rdd_processed_notstemmed.map(lambda x: (x[0],clean_tags(x[1].split(\",\"))))\n",
    "\n",
    "\n",
    "rdd_processed_stemmed=rdd_emote.map(lambda x:(snow_stemming(preprocessing(x[0].lower())),x[1])).map(lambda x: (x[0].split(),clean_tags(x[1].split(\",\"))))\n",
    "rdd_multiclass_singlelabel=rdd_processed_stemmed.map(lambda x:(x[0],\"\".join(x[1][:1])))"
   ]
  },
  {
   "cell_type": "code",
   "execution_count": 196,
   "metadata": {
    "id": "JEHhthwYtxkP"
   },
   "outputs": [],
   "source": [
    "#Converting RDD to DF suitable for further operations\n",
    "from pyspark.sql.functions import monotonically_increasing_id\n",
    "\n",
    "#Preparing dataframe for multilabel multioutput classification, upto four emotions are considered for each comment\n",
    "processed_df_1=  rdd_multilabel.toDF([\"comments_text\",\"emotion_tags\"])\n",
    "processed_df = processed_df_1.withColumn(\"index_column\",monotonically_increasing_id())\n",
    "processed_df = processed_df.select(\"index_column\", \"comments_text\",\"emotion_tags\")\n",
    "\n",
    "#preparing dataframe for multiclass single output classification, one emotion  is considered for the comment\n",
    "Processed_df_multiclass=rdd_multiclass_singlelabel.toDF([\"comments_text\",\"emotion_tags\"])\n",
    "Processed_df_multiclass = Processed_df_multiclass.withColumn(\"index_column\",monotonically_increasing_id())\n",
    "Processed_df_multiclass = Processed_df_multiclass.select(\"index_column\", \"comments_text\",\"emotion_tags\")\n"
   ]
  },
  {
   "cell_type": "markdown",
   "metadata": {
    "id": "ZHWFgtGka3sN"
   },
   "source": [
    "\n",
    "\n",
    "---\n",
    "\n",
    "\n",
    "Feature extraction and vectorization - using pyspark ML libraries"
   ]
  },
  {
   "cell_type": "code",
   "execution_count": 197,
   "metadata": {
    "id": "swCsAXcUS5lZ"
   },
   "outputs": [],
   "source": [
    "\"\"\"Using Pyspark ML lib for feature extraction and featurization of text data\"\"\"\n",
    "from pyspark.ml.feature import StringIndexer\n",
    "\n",
    "#1a.Labels transformed to binary vector (sparse vector) for a multilabel problem\n",
    "cv = CountVectorizer(inputCol=\"emotion_tags\", outputCol=\"labels\")\n",
    "cv_model = cv.fit(processed_df)\n",
    "processed_df_withyvector = cv_model.transform(processed_df).select(\"index_column\",\"comments_text\", \"emotion_tags\",\"labels\")\n",
    "#vocab = cv_model.vocabulary #- use this to see the y label indexes\n",
    "\n",
    "\n",
    "##1b Labels tranformed to numerical labels for a multiclass unioutput problem\n",
    "indexer = StringIndexer(inputCol=\"emotion_tags\", outputCol=\"labels\")\n",
    "model = indexer.fit(Processed_df_multiclass)\n",
    "df_indexed = model.transform(Processed_df_multiclass).select(\"index_column\",\"comments_text\", \"emotion_tags\",\"labels\")\n"
   ]
  },
  {
   "cell_type": "code",
   "execution_count": 198,
   "metadata": {
    "id": "L0wPiGPvpoKp"
   },
   "outputs": [],
   "source": [
    "## 2.Splitting data into Train and Test data\n",
    "from pyspark import StorageLevel\n",
    "processed_df_withyvector.persist(StorageLevel.MEMORY_AND_DISK)   #caching the Dataframe to allow close to consistent distribution of train and test each time\n",
    "df_indexed.persist(StorageLevel.MEMORY_AND_DISK)\n",
    "\n",
    "#multiclass multilabel data\n",
    "train_data, test_data = processed_df_withyvector.randomSplit(weights=[0.75, 0.25],seed=256)  #only the y label has been featurized at this stage and preprocessing done\n",
    "#train_data.show(20,truncate=False)\n",
    "\n",
    "#multiclass unilabel data\n",
    "train_data_multiclass, test_data_multiclass =df_indexed.randomSplit(weights=[0.75, 0.25],seed=1256)"
   ]
  },
  {
   "cell_type": "code",
   "execution_count": 201,
   "metadata": {
    "id": "2qB7dmLqNe78"
   },
   "outputs": [],
   "source": [
    "###3a. first approach -Feature extraction and vectorization using n-grams, Tf.IDf - to extract information out of word sequences and frequency of occurrence\n",
    "from pyspark.ml.feature import NGram, HashingTF, IDF, Word2Vec,CountVectorizer,VectorAssembler,UnivariateFeatureSelector\n",
    "from pyspark.ml import Pipeline\n",
    "\n",
    "def build_ngrams_tfidf(inputCol=[\"comments_text\"], n=5):\n",
    "    ngrams = [NGram(n=i, inputCol=\"comments_text\", outputCol=\"{0}_grams\".format(i)) for i in range (1,n+1)]\n",
    "    termfreq_cv = [CountVectorizer(inputCol=\"{0}_grams\".format(i),outputCol=\"{0}_termfreq\".format(i),minDF=5) for i in range (1,n+1)]\n",
    "    idf = [IDF(inputCol=\"{0}_termfreq\".format(i), outputCol=\"{0}_tfidf\".format(i), minDocFreq=3) for i in range (1,n+1)]\n",
    "    assembler = [VectorAssembler(inputCols=[\"{0}_tfidf\".format(i) for i in range(1, n + 1)],outputCol=\"tfidf_feature\")]\n",
    "    return Pipeline(stages=ngrams + termfreq_cv + idf + assembler)\n",
    "\n",
    "#Fitting tfidf on multiclass multilabel train data\n",
    "x_train_tfidfvectorized=build_ngrams_tfidf().fit(train_data)\n",
    "train_tfidf=x_train_tfidfvectorized.transform(train_data)\n",
    "train_tfidf_final=train_tfidf.select(\"tfidf_feature\",\"labels\")\n",
    "#train_tfidf_final.show(5) ##shown only for the purpose of report, commented out in actual file\n",
    "\n",
    "# fitting tfidf  on multiclass, unilabel train data\n",
    "mc_train_tfidf_model =build_ngrams_tfidf().fit(train_data_multiclass)\n",
    "mc_train_tfidf=mc_train_tfidf_model.transform(train_data_multiclass)\n",
    "mc_train_tfidf=mc_train_tfidf.select(\"tfidf_feature\",\"labels\")\n",
    "#mc_train_tfidf.show(5)\n"
   ]
  },
  {
   "cell_type": "code",
   "execution_count": 202,
   "metadata": {
    "id": "RqEQ39-Z5q7l"
   },
   "outputs": [],
   "source": [
    "###3b. Second approach -Feature extraction and vectorization using unigram-Word2Vec- to extract semantic relationship between the words\n",
    "\n",
    "w2v = Word2Vec(vectorSize=50,seed=42, minCount=0, inputCol=\"comments_text\", outputCol=\"word2Vec_feature\", numPartitions=5,maxIter=4)\n",
    "\n",
    "#fitting word2vec on multilabel train data\n",
    "train_w2v = w2v.fit(train_data)\n",
    "train_w2v_df=train_w2v.transform(train_data)   #or use getVectors if you want unique mappings\n",
    "train_w2v_final=train_w2v_df.select(\"index_column\",\"comments_text\",\"word2Vec_feature\",\"emotion_tags\",\"labels\")\n",
    "#train_w2v_final.show(2)\n",
    "\n",
    "#fitting word2vec on multiclass train data\n",
    "mc_train_w2v = w2v.fit(train_data_multiclass)\n",
    "mc_train_w2v_df=mc_train_w2v.transform(train_data_multiclass)   #or use getVectors if you want unique mappings\n",
    "mc_train_w2v_final=mc_train_w2v_df.select(\"index_column\",\"comments_text\",\"word2Vec_feature\",\"emotion_tags\",\"labels\")\n",
    "#mc_train_w2v_final.show(2)\n"
   ]
  },
  {
   "cell_type": "code",
   "execution_count": 203,
   "metadata": {
    "id": "8P8JNoqM0RDK"
   },
   "outputs": [],
   "source": [
    "#Preparing test featurizations \n",
    "\n",
    "#a)using trained models for tfidf and word2vec (this is to avoid any dataleakage)\n",
    "mc_test_tfidf=mc_train_tfidf_model.transform(test_data_multiclass)\n",
    "mc_test_w2v=mc_train_w2v.transform(test_data_multiclass)\n",
    "\n",
    "#b)using a fresh Tfidf and word2vec of the test data\n",
    "mc_test_tfidf_2=build_ngrams_tfidf().fit(test_data_multiclass).transform(test_data_multiclass).select(\"tfidf_feature\",\"labels\")\n",
    "\n",
    "w2v = Word2Vec(vectorSize=50,seed=42, minCount=0, inputCol=\"comments_text\", outputCol=\"word2Vec_feature\", numPartitions=5,maxIter=4)\n",
    "mc_test_w2v_2=w2v.fit(test_data_multiclass).transform(test_data_multiclass).select(\"word2Vec_feature\",\"labels\")"
   ]
  },
  {
   "cell_type": "markdown",
   "metadata": {
    "id": "mx3kVrOIbAlK"
   },
   "source": [
    "Machine learning algorithms using Pyspark libraries"
   ]
  },
  {
   "cell_type": "code",
   "execution_count": 204,
   "metadata": {
    "colab": {
     "base_uri": "https://localhost:8080/"
    },
    "id": "RpEQ7jdYgPht",
    "outputId": "d2da72ad-a2e5-4dbe-dc93-145f36c01f4f"
   },
   "outputs": [
    {
     "name": "stdout",
     "output_type": "stream",
     "text": [
      "accuracy with tf-idf 5-gram, lambda =0.1, alpha=0.25  0.2497918401332223\n",
      "accuracy with tf-idf 5-gram, lambda =0.01, alpha=0.4, Iter=100 0.3841243408270885\n",
      "accuracy with tf-idf 5-gram, lambda =0.008, alpha=0.8, Iter=200  0.3680960310852068\n",
      "F1_score with tf-idf 5-gram, lambda =0.008, alpha=0.8, Iter=200  0.3343606109287408\n"
     ]
    }
   ],
   "source": [
    "### 4. Performing multinomial logistic regression (softmax) regression- using Pyspark ML lib- multiclass single label\n",
    "\n",
    "#Baseline model\n",
    "from pyspark.ml.classification import LogisticRegression,OneVsRest\n",
    "from pyspark.ml.evaluation import MulticlassClassificationEvaluator\n",
    "\n",
    "## fitting a tf-idf 1-5 grams featurized model with multinomial logistic regression\n",
    "\n",
    "#a\n",
    "lr1 = LogisticRegression(featuresCol=\"tfidf_feature\",labelCol=\"labels\",maxIter=10,regParam=0.1, elasticNetParam=0.25, fitIntercept=True, family='multinomial')\n",
    "lrModel_tfidf_1 = lr1.fit(mc_train_tfidf)\n",
    "\n",
    "predictions_1 = lrModel_tfidf_1.transform(mc_test_tfidf)\n",
    "\n",
    "evaluator = MulticlassClassificationEvaluator(labelCol=\"labels\", predictionCol=\"prediction\", metricName=\"accuracy\")\n",
    "accuracy_1 = evaluator.evaluate(predictions_1)\n",
    "print(\"accuracy with tf-idf 5-gram, lambda =0.1, alpha=0.25 \", accuracy_1)\n",
    "\n",
    "#b\n",
    "lr2 = LogisticRegression(featuresCol=\"tfidf_feature\",labelCol=\"labels\",maxIter=100,regParam=0.01, elasticNetParam=0.4, fitIntercept=True, family='multinomial')\n",
    "lrModel_tfidf_2 = lr2.fit(mc_train_tfidf)\n",
    "\n",
    "predictions_2 = lrModel_tfidf_2.transform(mc_test_tfidf)\n",
    "\n",
    "evaluator = MulticlassClassificationEvaluator(labelCol=\"labels\", predictionCol=\"prediction\", metricName=\"accuracy\")\n",
    "accuracy_2 = evaluator.evaluate(predictions_2)\n",
    "print(\"accuracy with tf-idf 5-gram, lambda =0.01, alpha=0.4, Iter=100\", accuracy_2)\n",
    "\n",
    "#c\n",
    "lr3 = LogisticRegression(featuresCol=\"tfidf_feature\",labelCol=\"labels\",maxIter=200,regParam=0.008, elasticNetParam=0.8, fitIntercept=True, family='multinomial')\n",
    "lrModel_tfidf_3 = lr3.fit(mc_train_tfidf)\n",
    "\n",
    "predictions_3 = lrModel_tfidf_3.transform(mc_test_tfidf)\n",
    "\n",
    "evaluator = MulticlassClassificationEvaluator(labelCol=\"labels\", predictionCol=\"prediction\", metricName=\"accuracy\")\n",
    "accuracy_3 = evaluator.evaluate(predictions_3)\n",
    "evaluator_f1 = MulticlassClassificationEvaluator(labelCol=\"labels\", predictionCol=\"prediction\", metricName=\"f1\")\n",
    "f1_score = evaluator_f1.evaluate(predictions_3)\n",
    "\n",
    "print(\"accuracy with tf-idf 5-gram, lambda =0.008, alpha=0.8, Iter=200 \", accuracy_3 )\n",
    "print(\"F1_score with tf-idf 5-gram, lambda =0.008, alpha=0.8, Iter=200 \", f1_score )\n"
   ]
  },
  {
   "cell_type": "code",
   "execution_count": 205,
   "metadata": {
    "colab": {
     "base_uri": "https://localhost:8080/"
    },
    "id": "Lxs-C0Jz005g",
    "outputId": "94d6f185-37a1-4365-b5d8-1a62f089f4a7"
   },
   "outputs": [
    {
     "name": "stdout",
     "output_type": "stream",
     "text": [
      "accuracy with w2v, lambda =0.1, alpha=0.25, Iter=10 0.2243269497640855\n",
      "F1 score with w2v, lambda =0.1, alpha=0.25, Iter=10 0.12686254052479973\n",
      "accuracy with w2v, lambda =0.01, alpha=0.5, Iter=100 0.27692200943658063\n",
      "F1 score with w2v, lambda =0.01, alpha=0.5, Iter=100 0.21500303023337713\n",
      "accuracy with w2v, lambda =0.008, alpha=0.6, Iter=500 0.28677490979739106\n",
      "F1 score with w2v, lambda =0.008, alpha=0.6, Iter=500 0.23562430637839293\n"
     ]
    }
   ],
   "source": [
    "###performing Multinomial logistic regression with word2vec feature vector - multiclass single label problem\n",
    "#with word2Vec\n",
    "\n",
    "lr_w2v_1 = LogisticRegression(featuresCol=\"word2Vec_feature\",labelCol=\"labels\",maxIter=10,regParam=0.1, elasticNetParam=0.25, fitIntercept=True, family='multinomial')\n",
    "\n",
    "lrModel_w2v = lr_w2v_1.fit(mc_train_w2v_final)\n",
    "predictions = lrModel_w2v.transform(mc_test_w2v)\n",
    "\n",
    "evaluator = MulticlassClassificationEvaluator(labelCol=\"labels\", predictionCol=\"prediction\", metricName=\"accuracy\")\n",
    "accuracy = evaluator.evaluate(predictions)\n",
    "evaluator_f1 = MulticlassClassificationEvaluator(labelCol=\"labels\", predictionCol=\"prediction\", metricName=\"f1\")\n",
    "f1_score = evaluator_f1.evaluate(predictions)\n",
    "\n",
    "print(\"accuracy with w2v, lambda =0.1, alpha=0.25, Iter=10\", accuracy)\n",
    "print(\"F1 score with w2v, lambda =0.1, alpha=0.25, Iter=10\", f1_score)\n",
    "\n",
    "\n",
    "lr_w2v_1 = LogisticRegression(featuresCol=\"word2Vec_feature\",labelCol=\"labels\",maxIter=100,regParam=0.01, elasticNetParam=0.5, fitIntercept=True, family='multinomial')\n",
    "\n",
    "lrModel_w2v = lr_w2v_1.fit(mc_train_w2v_final)\n",
    "predictions = lrModel_w2v.transform(mc_test_w2v)\n",
    "\n",
    "evaluator = MulticlassClassificationEvaluator(labelCol=\"labels\", predictionCol=\"prediction\", metricName=\"accuracy\")\n",
    "accuracy = evaluator.evaluate(predictions)\n",
    "evaluator_f1 = MulticlassClassificationEvaluator(labelCol=\"labels\", predictionCol=\"prediction\", metricName=\"f1\")\n",
    "f1_score = evaluator_f1.evaluate(predictions)\n",
    "\n",
    "print(\"accuracy with w2v, lambda =0.01, alpha=0.5, Iter=100\", accuracy)\n",
    "print(\"F1 score with w2v, lambda =0.01, alpha=0.5, Iter=100\", f1_score)\n",
    "\n",
    "lr_w2v_1 = LogisticRegression(featuresCol=\"word2Vec_feature\",labelCol=\"labels\",maxIter=500,regParam=0.005, elasticNetParam=0.55, fitIntercept=True, family='multinomial')\n",
    "\n",
    "lrModel_w2v = lr_w2v_1.fit(mc_train_w2v_final)\n",
    "predictions = lrModel_w2v.transform(mc_test_w2v)\n",
    "\n",
    "evaluator = MulticlassClassificationEvaluator(labelCol=\"labels\", predictionCol=\"prediction\", metricName=\"accuracy\")\n",
    "accuracy = evaluator.evaluate(predictions)\n",
    "evaluator_f1 = MulticlassClassificationEvaluator(labelCol=\"labels\", predictionCol=\"prediction\", metricName=\"f1\")\n",
    "f1_score = evaluator_f1.evaluate(predictions)\n",
    "\n",
    "print(\"accuracy with w2v, lambda =0.008, alpha=0.6, Iter=500\", accuracy)\n",
    "print(\"F1 score with w2v, lambda =0.008, alpha=0.6, Iter=500\", f1_score)"
   ]
  },
  {
   "cell_type": "markdown",
   "metadata": {
    "id": "pmhaCAzAaZij"
   },
   "source": [
    "\n",
    "\n",
    "---\n",
    "\n"
   ]
  },
  {
   "cell_type": "markdown",
   "metadata": {
    "id": "wkIvImRMbKOr"
   },
   "source": [
    "Machine learning algorithms- multioutput algorithms in Python, scikit"
   ]
  },
  {
   "cell_type": "code",
   "execution_count": 2,
   "metadata": {
    "id": "ZiH4VXIyaZHC"
   },
   "outputs": [],
   "source": [
    "import pandas as pd\n",
    "#importing sklearn packages for reference SVM, Naive Bayes ML models. \n",
    "from keras.preprocessing.text import Tokenizer\n",
    "#from keras.preprocessing.sequence import pad_sequences\n",
    "from keras.utils import pad_sequences\n",
    "from keras.models import Sequential\n",
    "from keras.layers import Embedding, LSTM, Dense, SpatialDropout1D\n",
    "from keras.utils.np_utils import to_categorical\n",
    "\n",
    "from sklearn.feature_extraction.text import TfidfVectorizer\n",
    "from sklearn.multiclass import OneVsRestClassifier\n",
    "from sklearn.svm import LinearSVC\n",
    "from sklearn.svm import SVC\n",
    "from sklearn.pipeline import Pipeline\n",
    "from sklearn.model_selection import train_test_split\n",
    "from sklearn.preprocessing import MultiLabelBinarizer\n",
    "from sklearn.multioutput import MultiOutputClassifier\n",
    "from sklearn.ensemble import RandomForestClassifier\n",
    "from sklearn.metrics import accuracy_score, precision_score, recall_score, f1_score\n",
    "from sklearn.metrics import f1_score\n",
    "import numpy as np\n",
    "\n",
    "\n"
   ]
  },
  {
   "cell_type": "code",
   "execution_count": 3,
   "metadata": {
    "colab": {
     "base_uri": "https://localhost:8080/",
     "height": 241
    },
    "id": "kzGETJbSbgZj",
    "outputId": "5a7d2e10-750f-47d9-f1d0-50cd932f3106"
   },
   "outputs": [
    {
     "ename": "NameError",
     "evalue": "ignored",
     "output_type": "error",
     "traceback": [
      "\u001b[0;31m---------------------------------------------------------------------------\u001b[0m",
      "\u001b[0;31mNameError\u001b[0m                                 Traceback (most recent call last)",
      "\u001b[0;32m<ipython-input-3-d721b60c7679>\u001b[0m in \u001b[0;36m<cell line: 2>\u001b[0;34m()\u001b[0m\n\u001b[1;32m      1\u001b[0m \u001b[0;31m#As pyspark ml libraries do not support multioutput Ml algos yet, we tried python\u001b[0m\u001b[0;34m\u001b[0m\u001b[0;34m\u001b[0m\u001b[0m\n\u001b[0;32m----> 2\u001b[0;31m \u001b[0mprocessed_df_ml\u001b[0m\u001b[0;34m=\u001b[0m\u001b[0mrdd_processed_notstemmed_1\u001b[0m\u001b[0;34m.\u001b[0m\u001b[0mtoDF\u001b[0m\u001b[0;34m(\u001b[0m\u001b[0;34m[\u001b[0m\u001b[0;34m\"comments_text\"\u001b[0m\u001b[0;34m,\u001b[0m\u001b[0;34m\"emotion_tags\"\u001b[0m\u001b[0;34m]\u001b[0m\u001b[0;34m)\u001b[0m\u001b[0;34m\u001b[0m\u001b[0;34m\u001b[0m\u001b[0m\n\u001b[0m\u001b[1;32m      3\u001b[0m \u001b[0mprocessed_df\u001b[0m\u001b[0;34m=\u001b[0m\u001b[0mprocessed_df_ml\u001b[0m\u001b[0;34m.\u001b[0m\u001b[0mtoPandas\u001b[0m\u001b[0;34m(\u001b[0m\u001b[0;34m)\u001b[0m\u001b[0;34m\u001b[0m\u001b[0;34m\u001b[0m\u001b[0m\n\u001b[1;32m      4\u001b[0m \u001b[0mprocessed_df\u001b[0m\u001b[0;34m=\u001b[0m\u001b[0mprocessed_df\u001b[0m\u001b[0;34m.\u001b[0m\u001b[0msample\u001b[0m\u001b[0;34m(\u001b[0m\u001b[0mfrac\u001b[0m\u001b[0;34m=\u001b[0m\u001b[0;36m0.5\u001b[0m\u001b[0;34m,\u001b[0m \u001b[0mrandom_state\u001b[0m\u001b[0;34m=\u001b[0m\u001b[0;36m143\u001b[0m\u001b[0;34m)\u001b[0m\u001b[0;34m\u001b[0m\u001b[0;34m\u001b[0m\u001b[0m\n\u001b[1;32m      5\u001b[0m \u001b[0mX\u001b[0m \u001b[0;34m=\u001b[0m \u001b[0mprocessed_df\u001b[0m\u001b[0;34m[\u001b[0m\u001b[0;34m'comments_text'\u001b[0m\u001b[0;34m]\u001b[0m\u001b[0;34m\u001b[0m\u001b[0;34m\u001b[0m\u001b[0m\n",
      "\u001b[0;31mNameError\u001b[0m: name 'rdd_processed_notstemmed_1' is not defined"
     ]
    }
   ],
   "source": [
    "#As pyspark ml libraries do not support multioutput Ml algos yet, we tried python\n",
    "processed_df_ml=rdd_processed_notstemmed_1.toDF([\"comments_text\",\"emotion_tags\"])\n",
    "processed_df=processed_df_ml.toPandas()\n",
    "processed_df=processed_df.sample(frac=0.5, random_state=143)\n",
    "X = processed_df['comments_text']\n",
    "y = processed_df['emotion_tags']\n",
    "X_train_LSTM, X_test_LSTM, y_train_LSTM, y_test_LSTM = train_test_split(X, y, test_size=0.2, random_state=42)\n",
    "#X_train_SVM, X_test_SVM, y_train_SVM, y_test_SVM = train_test_split(X, y, test_size=0.2, random_state=42)\n"
   ]
  },
  {
   "cell_type": "code",
   "execution_count": 1,
   "metadata": {
    "colab": {
     "base_uri": "https://localhost:8080/",
     "height": 241
    },
    "id": "zpL8B6cvbwrQ",
    "outputId": "f8078c9d-f5fc-41f0-cbb1-970e9b734b2c"
   },
   "outputs": [
    {
     "ename": "NameError",
     "evalue": "ignored",
     "output_type": "error",
     "traceback": [
      "\u001b[0;31m---------------------------------------------------------------------------\u001b[0m",
      "\u001b[0;31mNameError\u001b[0m                                 Traceback (most recent call last)",
      "\u001b[0;32m<ipython-input-1-f1d03a4570d8>\u001b[0m in \u001b[0;36m<cell line: 4>\u001b[0;34m()\u001b[0m\n\u001b[1;32m      2\u001b[0m \u001b[0;34m\u001b[0m\u001b[0m\n\u001b[1;32m      3\u001b[0m \u001b[0;31m# Tokenize the text data\u001b[0m\u001b[0;34m\u001b[0m\u001b[0;34m\u001b[0m\u001b[0m\n\u001b[0;32m----> 4\u001b[0;31m \u001b[0mtokenizer\u001b[0m \u001b[0;34m=\u001b[0m \u001b[0mTokenizer\u001b[0m\u001b[0;34m(\u001b[0m\u001b[0mnum_words\u001b[0m\u001b[0;34m=\u001b[0m\u001b[0;36m5000\u001b[0m\u001b[0;34m)\u001b[0m\u001b[0;34m\u001b[0m\u001b[0;34m\u001b[0m\u001b[0m\n\u001b[0m\u001b[1;32m      5\u001b[0m \u001b[0mtokenizer\u001b[0m\u001b[0;34m.\u001b[0m\u001b[0mfit_on_texts\u001b[0m\u001b[0;34m(\u001b[0m\u001b[0mX_train_LSTM\u001b[0m\u001b[0;34m)\u001b[0m\u001b[0;34m\u001b[0m\u001b[0;34m\u001b[0m\u001b[0m\n\u001b[1;32m      6\u001b[0m \u001b[0mX_train_LSTM\u001b[0m \u001b[0;34m=\u001b[0m \u001b[0mtokenizer\u001b[0m\u001b[0;34m.\u001b[0m\u001b[0mtexts_to_sequences\u001b[0m\u001b[0;34m(\u001b[0m\u001b[0mX_train_LSTM\u001b[0m\u001b[0;34m)\u001b[0m\u001b[0;34m\u001b[0m\u001b[0;34m\u001b[0m\u001b[0m\n",
      "\u001b[0;31mNameError\u001b[0m: name 'Tokenizer' is not defined"
     ]
    }
   ],
   "source": [
    "\"\"\" LSTM - Optimal model with good accuracy\"\"\"\n",
    "\n",
    "# Tokenize the text data\n",
    "tokenizer = Tokenizer(num_words=5000)\n",
    "tokenizer.fit_on_texts(X_train_LSTM)\n",
    "X_train_LSTM = tokenizer.texts_to_sequences(X_train_LSTM)\n",
    "X_test_LSTM = tokenizer.texts_to_sequences(X_test_LSTM)\n",
    "\n",
    "# Pad the sequences with zeros so that all sequences have the same length\n",
    "max_length = max([len(seq) for seq in X_train_LSTM])\n",
    "X_train_LSTM = pad_sequences(X_train_LSTM, maxlen=max_length, padding='post')\n",
    "X_test_LSTM = pad_sequences(X_test_LSTM, maxlen=max_length, padding='post')\n",
    "\n",
    "encode = MultiLabelBinarizer()\n",
    "y_train_LSTM = encode.fit_transform(y_train_LSTM)\n",
    "y_test_LSTM = encode.fit_transform(y_test_LSTM)\n",
    "\n",
    "# Build the LSTM model\n",
    "LSTM_model = Sequential()\n",
    "LSTM_model.add(Embedding(5000, 128, input_length=max_length))\n",
    "LSTM_model.add(LSTM(128, dropout=0.2, recurrent_dropout=0.2))\n",
    "LSTM_model.add(Dense(23, activation='softmax'))\n",
    "LSTM_model.compile(loss='categorical_crossentropy', optimizer='adam', metrics=['accuracy'])\n",
    "\n",
    "# Train the model\n",
    "LSTM_model.fit(X_train_LSTM, y_train_LSTM, epochs=5, batch_size=16)\n",
    "\n",
    "# Evaluate the model on the testing set\n",
    "loss, accuracy = LSTM_model.evaluate(X_test_LSTM, y_test_LSTM, verbose=0)\n",
    "print('Accuracy: %f' % (accuracy*100))\n",
    "\n",
    "# y_pred_LSTM = model.predict(X_test_LSTM)\n",
    "# y_pred_LSTM = np.argmax(y_pred_LSTM, axis=1)\n",
    "# y_test_LSTM = np.argmax(y_test_LSTM, axis=1)\n",
    "# f1score = f1_score(y_test_LSTM, y_pred_LSTM, average='weighted')\n",
    "# print('F1 Score: %f' % f1score)"
   ]
  },
  {
   "cell_type": "code",
   "execution_count": null,
   "metadata": {
    "id": "1521ne9qdNuu"
   },
   "outputs": [],
   "source": [
    "# Other ML attempts\n",
    "\n",
    "#SVM\n",
    "# For 50% of sample dataset, SVM is running for more than 40mins without any efficient accuracy. \n",
    "# For 10% sample, the run time is 12mins with 20% efficiency. We expected this cause of multiclass and \n",
    "# lack of proper samples from the obtained 20% sample dataset.\n",
    "\n",
    "'''\n",
    "mlb = MultiLabelBinarizer()\n",
    "\n",
    "# Extract features using TF-IDF\n",
    "vectorizer = TfidfVectorizer()\n",
    "X_train_tfidf = vectorizer.fit_transform(X_train_SVM)\n",
    "X_test_tfidf = vectorizer.transform(X_test_SVM)\n",
    "\n",
    "# Train a SVM classifier\n",
    "model_SVM = MultiOutputClassifier(SVC(kernel='radial', probability=True))\n",
    "model_SVM.fit(X_train_tfidf, y_train_SVM)\n",
    "\n",
    "# Evaluate the classifier on the testing set\n",
    "y_pred = model_SVM.predict(X_test_tfidf)\n",
    "accuracy = accuracy_score(y_test_SVM, y_pred)\n",
    "print(\"Accuracy:\", accuracy)\n",
    "'''\n",
    "\n",
    "'''\n",
    "pyspark OVR\n",
    "\n",
    "lr = LogisticRegression(maxIter=10)\n",
    "\n",
    "# instantiate the One Vs Rest Classifier.\n",
    "ovr = OneVsRest(classifier=lr, feature\n",
    "'''"
   ]
  },
  {
   "cell_type": "markdown",
   "metadata": {
    "id": "ScXwdmq34bjm"
   },
   "source": []
  }
 ],
 "metadata": {
  "colab": {
   "provenance": []
  },
  "kernelspec": {
   "display_name": "Python 3 (ipykernel)",
   "language": "python",
   "name": "python3"
  },
  "language_info": {
   "codemirror_mode": {
    "name": "ipython",
    "version": 3
   },
   "file_extension": ".py",
   "mimetype": "text/x-python",
   "name": "python",
   "nbconvert_exporter": "python",
   "pygments_lexer": "ipython3",
   "version": "3.11.4"
  }
 },
 "nbformat": 4,
 "nbformat_minor": 4
}
